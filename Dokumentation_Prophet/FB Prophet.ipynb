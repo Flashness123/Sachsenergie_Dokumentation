{
 "cells": [
  {
   "cell_type": "code",
   "execution_count": 1,
   "id": "923ac019",
   "metadata": {},
   "outputs": [
    {
     "name": "stdout",
     "output_type": "stream",
     "text": [
      "Collecting prophet\n",
      "  Obtaining dependency information for prophet from https://files.pythonhosted.org/packages/24/2b/834e9a347f2f0161e32a3c6125b8a1ebdf6ac33199a0ed3a0bdf1f0c296f/prophet-1.1.5-py3-none-win_amd64.whl.metadata\n",
      "  Downloading prophet-1.1.5-py3-none-win_amd64.whl.metadata (3.6 kB)\n",
      "Collecting cmdstanpy>=1.0.4 (from prophet)\n",
      "  Obtaining dependency information for cmdstanpy>=1.0.4 from https://files.pythonhosted.org/packages/e8/e2/2ddc273e726680a3c816f9a05c6726d57d61820fa7ab4753ed282d0a8bbe/cmdstanpy-1.2.0-py3-none-any.whl.metadata\n",
      "  Downloading cmdstanpy-1.2.0-py3-none-any.whl.metadata (3.9 kB)\n",
      "Requirement already satisfied: numpy>=1.15.4 in c:\\users\\koubluka\\anaconda3\\lib\\site-packages (from prophet) (1.24.3)\n",
      "Requirement already satisfied: matplotlib>=2.0.0 in c:\\users\\koubluka\\anaconda3\\lib\\site-packages (from prophet) (3.7.2)\n",
      "Requirement already satisfied: pandas>=1.0.4 in c:\\users\\koubluka\\anaconda3\\lib\\site-packages (from prophet) (2.0.3)\n",
      "Collecting holidays>=0.25 (from prophet)\n",
      "  Obtaining dependency information for holidays>=0.25 from https://files.pythonhosted.org/packages/2c/d8/0a6ae9402b5809135026ae6e8aa7802ad613429ffe13cc2727822f33a6b4/holidays-0.35-py3-none-any.whl.metadata\n",
      "  Downloading holidays-0.35-py3-none-any.whl.metadata (19 kB)\n",
      "Requirement already satisfied: tqdm>=4.36.1 in c:\\users\\koubluka\\anaconda3\\lib\\site-packages (from prophet) (4.65.0)\n",
      "Collecting importlib-resources (from prophet)\n",
      "  Obtaining dependency information for importlib-resources from https://files.pythonhosted.org/packages/65/6e/09d8816b5cb7a4006ef8ad1717a2703ad9f331dae9717d9f22488a2d6469/importlib_resources-6.1.0-py3-none-any.whl.metadata\n",
      "  Downloading importlib_resources-6.1.0-py3-none-any.whl.metadata (4.1 kB)\n",
      "Collecting stanio~=0.3.0 (from cmdstanpy>=1.0.4->prophet)\n",
      "  Obtaining dependency information for stanio~=0.3.0 from https://files.pythonhosted.org/packages/26/01/e2579afa3ad1eade8b54bf5b9e45790d219681b1f8f97edbd2f18c4e1a7d/stanio-0.3.0-py3-none-any.whl.metadata\n",
      "  Downloading stanio-0.3.0-py3-none-any.whl.metadata (963 bytes)\n",
      "Requirement already satisfied: python-dateutil in c:\\users\\koubluka\\anaconda3\\lib\\site-packages (from holidays>=0.25->prophet) (2.8.2)\n",
      "Requirement already satisfied: contourpy>=1.0.1 in c:\\users\\koubluka\\anaconda3\\lib\\site-packages (from matplotlib>=2.0.0->prophet) (1.0.5)\n",
      "Requirement already satisfied: cycler>=0.10 in c:\\users\\koubluka\\anaconda3\\lib\\site-packages (from matplotlib>=2.0.0->prophet) (0.11.0)\n",
      "Requirement already satisfied: fonttools>=4.22.0 in c:\\users\\koubluka\\anaconda3\\lib\\site-packages (from matplotlib>=2.0.0->prophet) (4.25.0)\n",
      "Requirement already satisfied: kiwisolver>=1.0.1 in c:\\users\\koubluka\\anaconda3\\lib\\site-packages (from matplotlib>=2.0.0->prophet) (1.4.4)\n",
      "Requirement already satisfied: packaging>=20.0 in c:\\users\\koubluka\\anaconda3\\lib\\site-packages (from matplotlib>=2.0.0->prophet) (23.1)\n",
      "Requirement already satisfied: pillow>=6.2.0 in c:\\users\\koubluka\\anaconda3\\lib\\site-packages (from matplotlib>=2.0.0->prophet) (9.4.0)\n",
      "Requirement already satisfied: pyparsing<3.1,>=2.3.1 in c:\\users\\koubluka\\anaconda3\\lib\\site-packages (from matplotlib>=2.0.0->prophet) (3.0.9)\n",
      "Requirement already satisfied: pytz>=2020.1 in c:\\users\\koubluka\\anaconda3\\lib\\site-packages (from pandas>=1.0.4->prophet) (2023.3.post1)\n",
      "Requirement already satisfied: tzdata>=2022.1 in c:\\users\\koubluka\\anaconda3\\lib\\site-packages (from pandas>=1.0.4->prophet) (2023.3)\n",
      "Requirement already satisfied: colorama in c:\\users\\koubluka\\anaconda3\\lib\\site-packages (from tqdm>=4.36.1->prophet) (0.4.6)\n",
      "Requirement already satisfied: six>=1.5 in c:\\users\\koubluka\\anaconda3\\lib\\site-packages (from python-dateutil->holidays>=0.25->prophet) (1.16.0)\n",
      "Downloading prophet-1.1.5-py3-none-win_amd64.whl (13.3 MB)\n",
      "   ---------------------------------------- 0.0/13.3 MB ? eta -:--:--\n",
      "    --------------------------------------- 0.2/13.3 MB 3.9 MB/s eta 0:00:04\n",
      "   - -------------------------------------- 0.6/13.3 MB 6.4 MB/s eta 0:00:02\n",
      "   ----- ---------------------------------- 1.9/13.3 MB 14.7 MB/s eta 0:00:01\n",
      "   --------- ------------------------------ 3.3/13.3 MB 19.1 MB/s eta 0:00:01\n",
      "   --------- ------------------------------ 3.3/13.3 MB 19.1 MB/s eta 0:00:01\n",
      "   ------------- -------------------------- 4.6/13.3 MB 18.2 MB/s eta 0:00:01\n",
      "   ------------------ --------------------- 6.0/13.3 MB 20.3 MB/s eta 0:00:01\n",
      "   ----------------------- ---------------- 7.8/13.3 MB 23.8 MB/s eta 0:00:01\n",
      "   --------------------------- ------------ 9.3/13.3 MB 24.8 MB/s eta 0:00:01\n",
      "   --------------------------------- ------ 11.1/13.3 MB 32.8 MB/s eta 0:00:01\n",
      "   -------------------------------------- - 12.7/13.3 MB 34.4 MB/s eta 0:00:01\n",
      "   ---------------------------------------  13.3/13.3 MB 31.2 MB/s eta 0:00:01\n",
      "   ---------------------------------------- 13.3/13.3 MB 28.5 MB/s eta 0:00:00\n",
      "Downloading cmdstanpy-1.2.0-py3-none-any.whl (93 kB)\n",
      "   ---------------------------------------- 0.0/93.0 kB ? eta -:--:--\n",
      "   ---------------------------------------- 93.0/93.0 kB ? eta 0:00:00\n",
      "Downloading holidays-0.35-py3-none-any.whl (800 kB)\n",
      "   ---------------------------------------- 0.0/801.0 kB ? eta -:--:--\n",
      "   --------------------------------------- 801.0/801.0 kB 25.5 MB/s eta 0:00:00\n",
      "Downloading importlib_resources-6.1.0-py3-none-any.whl (33 kB)\n",
      "Downloading stanio-0.3.0-py3-none-any.whl (6.2 kB)\n",
      "Installing collected packages: stanio, importlib-resources, holidays, cmdstanpy, prophet\n",
      "Successfully installed cmdstanpy-1.2.0 holidays-0.35 importlib-resources-6.1.0 prophet-1.1.5 stanio-0.3.0\n"
     ]
    }
   ],
   "source": [
    "!pip install prophet"
   ]
  },
  {
   "cell_type": "code",
   "execution_count": null,
   "id": "6159995a",
   "metadata": {},
   "outputs": [],
   "source": [
    "import pandas as pd\n",
    "from prophet.plot import plot_plotly, plot_components_plotly\n",
    "from fbprophet import Prophet"
   ]
  },
  {
   "cell_type": "code",
   "execution_count": 1,
   "id": "30870744",
   "metadata": {},
   "outputs": [
    {
     "name": "stdout",
     "output_type": "stream",
     "text": [
      "^C\n"
     ]
    }
   ],
   "source": [
    "!conda install -c conda-forge fbprophet -y"
   ]
  },
  {
   "cell_type": "code",
   "execution_count": null,
   "id": "22724099",
   "metadata": {},
   "outputs": [],
   "source": [
    "3*3"
   ]
  },
  {
   "cell_type": "code",
   "execution_count": null,
   "id": "cba8862f",
   "metadata": {},
   "outputs": [],
   "source": []
  }
 ],
 "metadata": {
  "kernelspec": {
   "display_name": "Python 3 (ipykernel)",
   "language": "python",
   "name": "python3"
  },
  "language_info": {
   "codemirror_mode": {
    "name": "ipython",
    "version": 3
   },
   "file_extension": ".py",
   "mimetype": "text/x-python",
   "name": "python",
   "nbconvert_exporter": "python",
   "pygments_lexer": "ipython3",
   "version": "3.11.4"
  }
 },
 "nbformat": 4,
 "nbformat_minor": 5
}
